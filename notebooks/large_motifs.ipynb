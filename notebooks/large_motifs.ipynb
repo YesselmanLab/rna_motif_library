{
 "cells": [
  {
   "cell_type": "code",
   "execution_count": 1,
   "metadata": {},
   "outputs": [],
   "source": [
    "import pandas as pd\n",
    "from typing import List, Optional\n",
    "from rna_motif_library.basepair import get_cached_basepairs\n",
    "from rna_motif_library.chain import get_cached_chains, Chains, write_chain_to_cif\n",
    "from rna_motif_library.motif import get_cached_motifs, MotifFactory, Motif\n",
    "from rna_motif_library.residue import Residue\n",
    "from rna_motif_library.logger import setup_logging\n",
    "from rna_motif_library.util import wc_basepairs_w_gu, get_cached_path\n",
    "from rna_motif_library.hbond import get_cached_hbonds\n",
    "from rna_motif_library.x3dna import get_cached_dssr_output, X3DNAResidueFactory\n",
    "from rna_motif_library.motif_factory import (\n",
    "    HelixFinder,\n",
    "    get_pdb_structure_data,\n",
    "    get_pdb_structure_data_for_residues,\n",
    "    get_cww_basepairs,\n",
    ")"
   ]
  },
  {
   "cell_type": "code",
   "execution_count": 2,
   "metadata": {},
   "outputs": [],
   "source": [
    "def setup_motif_factory(pdb_id: str) -> MotifFactory:\n",
    "    \"\"\"Create and return a MotifFactory instance for the given PDB ID.\n",
    "\n",
    "    Args:\n",
    "        pdb_id: PDB identifier\n",
    "\n",
    "    Returns:\n",
    "        Configured MotifFactory instance\n",
    "    \"\"\"\n",
    "    basepairs = get_cached_basepairs(pdb_id)\n",
    "    chains = get_cached_chains(pdb_id)\n",
    "    hbonds = get_cached_hbonds(pdb_id)\n",
    "    rna_chains = Chains(chains)\n",
    "    return MotifFactory(pdb_id, rna_chains, basepairs, hbonds)"
   ]
  },
  {
   "cell_type": "code",
   "execution_count": 3,
   "metadata": {},
   "outputs": [
    {
     "name": "stderr",
     "output_type": "stream",
     "text": [
      "Residue a-U-241- has 2 basepairs. Only taking the one with the highest hbond score.\n",
      "Basepair: a-G-283- a-U-241- with hbond score 1.5137164611552927\n",
      "Basepair: a-G-284- a-U-241- with hbond score 1.6356722520030003\n",
      "Residue A-G-172- has 2 basepairs. Only taking the one with the highest hbond score.\n",
      "Basepair: A-G-172- A-U-158- with hbond score 1.300902863719972\n",
      "Basepair: A-C-159- A-G-172- with hbond score 2.1476725479831975\n",
      "Residue A-C-1303- has 2 basepairs. Only taking the one with the highest hbond score.\n",
      "Basepair: A-C-1303- A-G-1309- with hbond score 2.0138593377227174\n",
      "Basepair: A-C-1303- A-G-1308- with hbond score 2.480799231110086\n",
      "Residue a-G-284- has 2 basepairs. Only taking the one with the highest hbond score.\n",
      "Basepair: a-G-284- a-U-241- with hbond score 1.6356722520030003\n",
      "Basepair: a-C-240- a-G-284- with hbond score 2.2751105136787375\n",
      "Residue A-G-2579- has 2 basepairs. Only taking the one with the highest hbond score.\n",
      "Basepair: A-G-2579- A-U-2530- with hbond score 1.5276915037822234\n",
      "Basepair: A-G-2579- A-U-2529- with hbond score 1.5565759587695367\n",
      "Residue A-U-2530- has 2 basepairs. Only taking the one with the highest hbond score.\n",
      "Basepair: A-G-2579- A-U-2530- with hbond score 1.5276915037822234\n",
      "Basepair: A-A-2578- A-U-2530- with hbond score 1.6847605829675107\n",
      "Residue a-G-539- has 2 basepairs. Only taking the one with the highest hbond score.\n",
      "Basepair: a-C-39- a-G-539- with hbond score 2.34531268203862\n",
      "Basepair: a-G-539- a-U-40- with hbond score 1.4643870023233285\n"
     ]
    }
   ],
   "source": [
    "pdb_id = \"7MSH\"\n",
    "mf = setup_motif_factory(pdb_id)"
   ]
  },
  {
   "cell_type": "code",
   "execution_count": 4,
   "metadata": {},
   "outputs": [],
   "source": [
    "hairpins = mf.get_looped_strands()"
   ]
  },
  {
   "cell_type": "code",
   "execution_count": 5,
   "metadata": {},
   "outputs": [
    {
     "name": "stdout",
     "output_type": "stream",
     "text": [
      "74\n"
     ]
    }
   ],
   "source": [
    "sorted(hairpins, key=lambda x: len(x.get_residues()))\n",
    "print(len(hairpins[-1].get_residues()))"
   ]
  },
  {
   "cell_type": "code",
   "execution_count": 6,
   "metadata": {},
   "outputs": [],
   "source": [
    "helices = mf.get_helices(hairpins)"
   ]
  },
  {
   "cell_type": "code",
   "execution_count": 7,
   "metadata": {},
   "outputs": [],
   "source": [
    "non_helical_strands = mf.get_non_helical_strands(helices)"
   ]
  },
  {
   "cell_type": "code",
   "execution_count": 8,
   "metadata": {},
   "outputs": [
    {
     "name": "stdout",
     "output_type": "stream",
     "text": [
      "58\n",
      "84\n",
      "78\n",
      "131\n",
      "60\n",
      "74\n",
      "75\n",
      "58\n",
      "71\n",
      "54\n"
     ]
    }
   ],
   "source": [
    "long_non_helical_strands = []\n",
    "for s in non_helical_strands:\n",
    "    if len(s) > 50:\n",
    "        print(len(s))\n",
    "        long_non_helical_strands.append(s)"
   ]
  },
  {
   "cell_type": "code",
   "execution_count": 9,
   "metadata": {},
   "outputs": [
    {
     "name": "stdout",
     "output_type": "stream",
     "text": [
      "10\n"
     ]
    }
   ],
   "source": [
    "print(len(long_non_helical_strands))"
   ]
  },
  {
   "cell_type": "code",
   "execution_count": 10,
   "metadata": {},
   "outputs": [],
   "source": [
    "s = long_non_helical_strands[3]\n",
    "write_chain_to_cif(s, \"large_motif.cif\")"
   ]
  },
  {
   "cell_type": "code",
   "execution_count": 11,
   "metadata": {},
   "outputs": [],
   "source": [
    "org_pdb_data = get_pdb_structure_data(pdb_id)"
   ]
  },
  {
   "cell_type": "code",
   "execution_count": 12,
   "metadata": {},
   "outputs": [],
   "source": [
    "pdb_data = get_pdb_structure_data_for_residues(org_pdb_data, s)"
   ]
  },
  {
   "cell_type": "code",
   "execution_count": 29,
   "metadata": {},
   "outputs": [],
   "source": [
    "cww_basepairs = get_cww_basepairs(\n",
    "    pdb_data, min_two_hbond_score=0.50, min_three_hbond_score=0.50\n",
    ")"
   ]
  },
  {
   "cell_type": "code",
   "execution_count": null,
   "metadata": {},
   "outputs": [
    {
     "name": "stdout",
     "output_type": "stream",
     "text": [
      "8\n"
     ]
    }
   ],
   "source": [
    "hf = HelixFinder(pdb_data, cww_basepairs, [])\n",
    "helices = hf.get_helices()\n",
    "print(len(helices))\n",
    "for i, h in enumerate(helices):\n",
    "    h.to_cif(\"helix_{}.cif\".format(i))"
   ]
  },
  {
   "cell_type": "code",
   "execution_count": null,
   "metadata": {},
   "outputs": [],
   "source": []
  }
 ],
 "metadata": {
  "kernelspec": {
   "display_name": "py3",
   "language": "python",
   "name": "python3"
  },
  "language_info": {
   "codemirror_mode": {
    "name": "ipython",
    "version": 3
   },
   "file_extension": ".py",
   "mimetype": "text/x-python",
   "name": "python",
   "nbconvert_exporter": "python",
   "pygments_lexer": "ipython3",
   "version": "3.9.18"
  }
 },
 "nbformat": 4,
 "nbformat_minor": 2
}
