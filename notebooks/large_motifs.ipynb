{
 "cells": [
  {
   "cell_type": "code",
   "execution_count": 2,
   "metadata": {},
   "outputs": [],
   "source": [
    "import pandas as pd\n",
    "from typing import List, Optional\n",
    "\n",
    "from rna_motif_library.util import add_motif_indentifier_columns"
   ]
  },
  {
   "cell_type": "code",
   "execution_count": 3,
   "metadata": {},
   "outputs": [],
   "source": [
    "df_motifs = pd.read_json(\"../data/summaries/motifs/non_redundant_motifs_summary.json\")\n",
    "df_motifs[\"is_large_motif\"] = (\n",
    "    (df_motifs[\"num_residues\"] > 50)\n",
    "    & (df_motifs[\"motif_type\"] != \"NWAY\")\n",
    "    & (df_motifs[\"motif_type\"] != \"HELIX\")\n",
    ")"
   ]
  },
  {
   "cell_type": "code",
   "execution_count": 4,
   "metadata": {},
   "outputs": [
    {
     "name": "stdout",
     "output_type": "stream",
     "text": [
      "103763\n"
     ]
    }
   ],
   "source": [
    "print(len(df_motifs))"
   ]
  },
  {
   "cell_type": "code",
   "execution_count": 5,
   "metadata": {},
   "outputs": [],
   "source": [
    "exclude_pdb_ids = [\n",
    "    \"7ASO\",\n",
    "    \"7ASP\",\n",
    "    \"6R7G\",\n",
    "]"
   ]
  },
  {
   "cell_type": "code",
   "execution_count": 6,
   "metadata": {},
   "outputs": [],
   "source": [
    "df = df_motifs.query(\"is_large_motif == True\")\n",
    "df = df[~df[\"pdb_id\"].isin(exclude_pdb_ids)]"
   ]
  },
  {
   "cell_type": "code",
   "execution_count": 7,
   "metadata": {},
   "outputs": [
    {
     "name": "stdout",
     "output_type": "stream",
     "text": [
      "141\n"
     ]
    }
   ],
   "source": [
    "print(len(df))"
   ]
  },
  {
   "cell_type": "code",
   "execution_count": 8,
   "metadata": {},
   "outputs": [
    {
     "data": {
      "text/plain": [
       "pdb_id                                                                           6V3A\n",
       "motif_id                            HAIRPIN-72-UUGUGUAGGAUAGGUGGGAGGCUUUGAAGCUGGAA...\n",
       "motif_sequence                      UUGUGUAGGAUAGGUGGGAGGCUUUGAAGCUGGAACGCUAGUUCCA...\n",
       "motif_topology                                                                     72\n",
       "motif_type                                                                    HAIRPIN\n",
       "residues                            [AN1-U-2104-, AN1-U-2105-, AN1-G-2106-, AN1-U-...\n",
       "num_non_canonical_basepairs                                                        27\n",
       "num_strands                                                                         1\n",
       "num_residues                                                                       74\n",
       "non_canonical_bps                   [[AN1-U-2105-, AN1-U-2176-, cWW, 0.0], [AN1-C-...\n",
       "num_hbonds                                                                        117\n",
       "num_protein_hbonds                                                                  0\n",
       "num_ligand_hbonds                                                                   0\n",
       "num_tc_hbonds                                                                       0\n",
       "protein_hbond_score                                                               0.0\n",
       "ligand_hbond_score                                                                0.0\n",
       "tertiary_contact_hbond_score                                                      0.0\n",
       "has_singlet_pair                                                                    0\n",
       "has_non_canonical_residue                                                           0\n",
       "has_non_canonical_basepair_flank                                                    0\n",
       "is_isolatable                                                                       1\n",
       "in_tertiary_contact                                                                 0\n",
       "num_tertiary_contacts                                                               0\n",
       "unique                                                                              1\n",
       "is_large_motif                                                                   True\n",
       "Name: 126, dtype: object"
      ]
     },
     "execution_count": 8,
     "metadata": {},
     "output_type": "execute_result"
    }
   ],
   "source": [
    "df.iloc[0]\n",
    "# print(df.iloc[2][\"non_canonical_bps\"])"
   ]
  },
  {
   "cell_type": "code",
   "execution_count": 9,
   "metadata": {},
   "outputs": [],
   "source": [
    "row = df.iloc[0]"
   ]
  },
  {
   "cell_type": "code",
   "execution_count": 10,
   "metadata": {},
   "outputs": [
    {
     "name": "stdout",
     "output_type": "stream",
     "text": [
      "['AN1-U-2105-', 'AN1-U-2176-', 'cWW', 0.0]\n",
      "['AN1-C-2175-', 'AN1-G-2106-', 'cWW', 2.8476076246]\n",
      "['AN1-A-2165-', 'AN1-U-2109-', 'c.H', 0.6235439610000001]\n",
      "['AN1-A-2110-', 'AN1-A-2115-', 'cWW', 0.0]\n",
      "['AN1-C-2161-', 'AN1-G-2112-', 'cWW', 2.8764406475]\n",
      "['AN1-G-2144-', 'AN1-U-2114-', 'cHS', 0.9152800666]\n",
      "['AN1-C-2174-', 'AN1-G-2117-', 'cWW', 0.4514330342]\n",
      "['AN1-C-2173-', 'AN1-U-2118-', 'cWW', 0.0]\n",
      "['AN1-G-2119-', 'AN1-G-2120-', 'cSH', 1.4069484782]\n",
      "['AN1-C-2170-', 'AN1-G-2120-', 'cWW', 2.8336820883]\n",
      "['AN1-C-2171-', 'AN1-G-2120-', 'cWS', 0.0]\n",
      "['AN1-G-2123-', 'AN1-G-2158-', 'tWH', 0.0]\n",
      "['AN1-G-2123-', 'AN1-U-2159-', 'cWW', 0.0]\n",
      "['AN1-C-2125-', 'AN1-C-2156-', 'c.W', 0.8325941596]\n",
      "['AN1-A-2130-', 'AN1-G-2152-', 'tHW', 1.3830355828]\n",
      "['AN1-G-2132-', 'AN1-U-2151-', 'tW.', 0.8771843001]\n",
      "['AN1-C-2133-', 'AN1-G-2150-', 'cWW', 2.9479640675]\n",
      "['AN1-G-2150-', 'AN1-U-2134-', 'tH.', 0.9435022888000001]\n",
      "['AN1-A-2149-', 'AN1-G-2135-', 'cWW', 0.6546123971000001]\n",
      "['AN1-C-2148-', 'AN1-G-2136-', 'cWW', 2.6030990194]\n",
      "['AN1-A-2137-', 'AN1-A-2138-', 'cSH', 0.7446145368]\n",
      "['AN1-A-2137-', 'AN1-C-2139-', 'tSW', 0.7760309121000001]\n",
      "['AN1-A-2138-', 'AN1-U-2146-', 'cWS', 0.5379888828]\n",
      "['AN1-C-2139-', 'AN1-G-2144-', 'cWW', 0.5410334873]\n",
      "['AN1-A-2143-', 'AN1-G-2140-', 'tSH', 2.2920658932]\n",
      "['AN1-A-2166-', 'AN1-U-2162-', 'cWH', 1.6801632656]\n",
      "['AN1-A-2172-', 'AN1-C-2171-', 'cSH', 0.8301829206]\n"
     ]
    }
   ],
   "source": [
    "for bp_info in row[\"non_canonical_bps\"]:\n",
    "    print(bp_info)"
   ]
  },
  {
   "cell_type": "code",
   "execution_count": null,
   "metadata": {},
   "outputs": [],
   "source": []
  }
 ],
 "metadata": {
  "kernelspec": {
   "display_name": "py3",
   "language": "python",
   "name": "python3"
  },
  "language_info": {
   "codemirror_mode": {
    "name": "ipython",
    "version": 3
   },
   "file_extension": ".py",
   "mimetype": "text/x-python",
   "name": "python",
   "nbconvert_exporter": "python",
   "pygments_lexer": "ipython3",
   "version": "3.9.18"
  }
 },
 "nbformat": 4,
 "nbformat_minor": 2
}
