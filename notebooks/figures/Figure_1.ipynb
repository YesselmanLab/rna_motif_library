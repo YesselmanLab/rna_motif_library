{
 "cells": [
  {
   "cell_type": "markdown",
   "id": "dc139a6c",
   "metadata": {},
   "source": [
    "# Figure 1: Motif type distribution"
   ]
  },
  {
   "cell_type": "markdown",
   "id": "d318cbeb",
   "metadata": {},
   "source": [
    "# Setup"
   ]
  },
  {
   "cell_type": "code",
   "execution_count": null,
   "id": "b6ea636c",
   "metadata": {},
   "outputs": [],
   "source": [
    "import pandas as pd\n",
    "import numpy as np\n",
    "import os\n",
    "\n",
    "import matplotlib.pyplot as plt\n",
    "import seaborn as sns\n",
    "\n",
    "from rna_motif_library.settings import DATA_PATH\n",
    "from rna_motif_library.util import add_motif_indentifier_columns\n",
    "from rna_motif_library.plotting import (\n",
    "    publication_style_ax,\n",
    "    calculate_subplot_coordinates,\n",
    "    merge_sequential_coords,\n",
    ")\n",
    "\n",
    "PLOT_PATH = \"../../figures/plots\""
   ]
  },
  {
   "cell_type": "markdown",
   "id": "46114bd0",
   "metadata": {},
   "source": [
    "## extra functions\n"
   ]
  },
  {
   "cell_type": "code",
   "execution_count": 7,
   "id": "5b295096",
   "metadata": {},
   "outputs": [],
   "source": [
    "def add_residue_count(df: pd.DataFrame) -> pd.DataFrame:\n",
    "    \"\"\"Add a column counting non-gap residues in each sequence.\n",
    "\n",
    "    Args:\n",
    "        df: DataFrame containing motif data with 'msequence' column\n",
    "\n",
    "    Returns:\n",
    "        DataFrame with additional 'residue_num' column counting non-gap characters\n",
    "    \"\"\"\n",
    "    df[\"residue_num\"] = df[\"msequence\"].str.replace(\"-\", \"\").str.len()\n",
    "    return df\n",
    "\n",
    "\n",
    "def rename_motif_types(df):\n",
    "    \"\"\"Rename motif type values to more readable format.\n",
    "\n",
    "    Args:\n",
    "        df: DataFrame containing motif data\n",
    "\n",
    "    Returns:\n",
    "        DataFrame with renamed motif types\n",
    "    \"\"\"\n",
    "    type_mapping = {\n",
    "        \"HELIX\": \"Helix\",\n",
    "        \"SSTRAND\": \"Single Strand\",\n",
    "        \"TWOWAY\": \"Two-way\",\n",
    "        \"NWAY\": \"N-way\",\n",
    "        \"HAIRPIN\": \"Hairpin\",\n",
    "    }\n",
    "\n",
    "    df[\"motif_type\"] = df[\"motif_type\"].map(type_mapping)\n",
    "    return df"
   ]
  },
  {
   "cell_type": "markdown",
   "id": "f3e05d70",
   "metadata": {},
   "source": [
    "## load data"
   ]
  },
  {
   "cell_type": "code",
   "execution_count": 8,
   "id": "556ebfdc",
   "metadata": {},
   "outputs": [],
   "source": [
    "path = \"../../data/summaries/non_redundant_motifs_no_issues.csv\"\n",
    "df = pd.read_csv(path)\n",
    "df = add_motif_indentifier_columns(df, \"motif_name\")\n",
    "df = df.query(\"mtype != 'UNKNOWN'\")\n",
    "df = add_residue_count(df)\n",
    "# Apply the renaming\n",
    "df = rename_motif_types(df)"
   ]
  },
  {
   "cell_type": "markdown",
   "id": "63a9f16b",
   "metadata": {},
   "source": [
    "# Plots"
   ]
  },
  {
   "cell_type": "markdown",
   "id": "81070438",
   "metadata": {},
   "source": [
    "## Figure 1a: Motif type counts"
   ]
  },
  {
   "cell_type": "code",
   "execution_count": 9,
   "id": "104a8ed4",
   "metadata": {},
   "outputs": [
    {
     "data": {
      "image/png": "[encoded data removed]",
      "text/plain": [
       "<Figure size 150x150 with 1 Axes>"
      ]
     },
     "metadata": {},
     "output_type": "display_data"
    }
   ],
   "source": [
    "def figure_1a(df, ax):\n",
    "    \"\"\"Plot pie chart of motif type counts.\n",
    "\n",
    "    Args:\n",
    "        df: DataFrame containing motif data\n",
    "        ax: matplotlib axis to plot on\n",
    "    \"\"\"\n",
    "    colors = {\n",
    "        \"Helix\": \"gray\",\n",
    "        \"N-way\": \"red\",\n",
    "        \"Two-way\": \"orange\",\n",
    "        \"Hairpin\": \"blue\",\n",
    "        \"Single\\nStrand\": \"green\",\n",
    "    }\n",
    "    value_counts = df[\"motif_type\"].value_counts()\n",
    "    # Replace \"Single Strand\" with \"Single\\nStrand\" in the index for plotting\n",
    "    plot_index = value_counts.index.map(\n",
    "        lambda x: \"Single\\nStrand\" if x == \"Single Strand\" else x\n",
    "    )\n",
    "    value_counts.index = plot_index\n",
    "    value_counts.plot(\n",
    "        kind=\"pie\",\n",
    "        ax=ax,\n",
    "        colors=[colors[m] for m in value_counts.index],\n",
    "        wedgeprops={\"edgecolor\": \"black\", \"linewidth\": 0.5},\n",
    "        autopct=lambda p: f\"{int(p * len(df)/100):,}\",\n",
    "    )\n",
    "    ax.set_ylabel(\"\")\n",
    "    publication_style_ax(ax, fsize=8, ytick_size=6, xtick_size=6)\n",
    "\n",
    "\n",
    "fig, ax = plt.subplots(figsize=(1.5, 1.5))\n",
    "figure_1a(df, ax)"
   ]
  },
  {
   "cell_type": "markdown",
   "id": "0b907858",
   "metadata": {},
   "source": [
    "## Figure 1b: distribution of helix sizes"
   ]
  },
  {
   "cell_type": "code",
   "execution_count": 10,
   "id": "a1cbda56",
   "metadata": {},
   "outputs": [
    {
     "data": {
      "image/png": "[encoded data removed]",
      "text/plain": [
       "<Figure size 150x150 with 1 Axes>"
      ]
     },
     "metadata": {},
     "output_type": "display_data"
    }
   ],
   "source": [
    "def get_helix_data(df):\n",
    "    \"\"\"Extract and process helix data from the main dataframe.\n",
    "\n",
    "    Args:\n",
    "        df: DataFrame containing motif data\n",
    "\n",
    "    Returns:\n",
    "        Series: Value counts of helix sizes up to 15 bp\n",
    "    \"\"\"\n",
    "    helices = df.query(\"motif_type == 'Helix'\").copy()\n",
    "    helices[\"msize\"] = helices[\"msize\"].astype(int)\n",
    "    helix_sizes = helices[\"msize\"].astype(int).value_counts()\n",
    "    return helix_sizes[helix_sizes.index <= 15]  # Only keep sizes up to 15\n",
    "\n",
    "\n",
    "def figure_1b(df, ax):\n",
    "    \"\"\"Plot bar chart of helix size distribution.\n",
    "\n",
    "    Args:\n",
    "        df: DataFrame containing motif data\n",
    "        ax: matplotlib axis to plot on\n",
    "    \"\"\"\n",
    "    # Get helices and their sizes\n",
    "    helix_sizes = get_helix_data(df)\n",
    "\n",
    "    # Create bar plot of helix sizes\n",
    "    ax.bar(helix_sizes.index, helix_sizes.values, edgecolor=\"black\", width=0.5)\n",
    "    ax.set_xlabel(\"Helix Size (bp)\", labelpad=2)\n",
    "    # Set x-ticks to show every other value and label every other bar\n",
    "    ax.set_xticks(helix_sizes.index)\n",
    "    labels = [str(x) if i % 2 == 0 else \"\" for i, x in enumerate(helix_sizes.index)]\n",
    "    ax.set_xticklabels(labels, rotation=0, ha=\"center\")\n",
    "    ax.set_yticks([2000, 4000, 6000, 8000, 10000])\n",
    "    ax.set_yticklabels([\"2\", \"4\", \"6\", \"8\", \"10\"])\n",
    "\n",
    "    ax.set_ylabel(\"Count (10$^3$)\", labelpad=1)\n",
    "    publication_style_ax(ax, fsize=8, ytick_size=6, xtick_size=6)\n",
    "\n",
    "\n",
    "fig, ax = plt.subplots(figsize=(1.5, 1.5))\n",
    "figure_1b(df, ax)"
   ]
  },
  {
   "cell_type": "markdown",
   "id": "4030e9bc",
   "metadata": {},
   "source": [
    "## Hairpin size distribution"
   ]
  },
  {
   "cell_type": "code",
   "execution_count": 17,
   "id": "ab59ed97",
   "metadata": {},
   "outputs": [
    {
     "data": {
      "image/png": "[encoded data removed]",
      "text/plain": [
       "<Figure size 150x150 with 1 Axes>"
      ]
     },
     "metadata": {},
     "output_type": "display_data"
    }
   ],
   "source": [
    "def get_hairpin_data(df):\n",
    "    \"\"\"Extract and process hairpin data from the main dataframe.\n",
    "\n",
    "    Args:\n",
    "        df: DataFrame containing motif data\n",
    "\n",
    "    Returns:\n",
    "        Series: Value counts of hairpin sizes up to 25 nt\n",
    "    \"\"\"\n",
    "    hairpins = df.query(\"motif_type == 'Hairpin'\").copy()\n",
    "    hairpins[\"msize\"] = hairpins[\"msize\"].astype(int)\n",
    "    hairpins = hairpins.query(\"msize <= 25\")\n",
    "    hairpin_sizes = hairpins[\"msize\"].value_counts().sort_index()\n",
    "    return hairpin_sizes\n",
    "\n",
    "\n",
    "def figure_1c(df, ax):\n",
    "    \"\"\"Plot bar chart of hairpin size distribution.\n",
    "\n",
    "    Args:\n",
    "        df: DataFrame containing motif data\n",
    "        ax: matplotlib axis to plot on\n",
    "    \"\"\"\n",
    "    # Get hairpins and their sizes\n",
    "    hairpin_sizes = get_hairpin_data(df)\n",
    "\n",
    "    # Create bar plot of hairpin sizes\n",
    "    ax.bar(hairpin_sizes.index, hairpin_sizes.values, edgecolor=\"black\", width=0.5)\n",
    "    ax.set_xticks(hairpin_sizes.index)\n",
    "    # Label every other bar\n",
    "    labels = [str(x) if i % 3 == 0 else \"\" for i, x in enumerate(hairpin_sizes.index)]\n",
    "    ax.set_xticklabels(labels, rotation=0)\n",
    "    ax.set_yticks([0, 1000, 2000, 3000, 4000])\n",
    "    ax.set_yticklabels([\"0\", \"1\", \"2\", \"3\", \"4\"])\n",
    "    ax.set_ylabel(\"Count (10$^3$)\", labelpad=4)\n",
    "    ax.set_xlabel(\"Hairpin Size (nt)\", labelpad=2)\n",
    "\n",
    "    publication_style_ax(ax, fsize=8, ytick_size=6, xtick_size=6)\n",
    "\n",
    "\n",
    "fig, ax = plt.subplots(figsize=(1.5, 1.5))\n",
    "figure_1c(df, ax)"
   ]
  },
  {
   "cell_type": "markdown",
   "id": "420013c7",
   "metadata": {},
   "source": [
    "## Single strand size distribution"
   ]
  },
  {
   "cell_type": "code",
   "execution_count": 18,
   "id": "fd783224",
   "metadata": {},
   "outputs": [
    {
     "data": {
      "image/png": "[encoded data removed]",
      "text/plain": [
       "<Figure size 150x150 with 1 Axes>"
      ]
     },
     "metadata": {},
     "output_type": "display_data"
    }
   ],
   "source": [
    "def get_single_strand_data(df):\n",
    "    \"\"\"Get single strand size distribution data.\n",
    "\n",
    "    Args:\n",
    "        df: DataFrame containing motif data\n",
    "\n",
    "    Returns:\n",
    "        Series: Value counts of single strand sizes up to 25 nt\n",
    "    \"\"\"\n",
    "    singles = df.query(\"mtype == 'SSTRAND'\").copy()\n",
    "    singles[\"msize\"] = singles[\"msize\"].astype(int)\n",
    "    singles = singles.query(\"msize <= 20\")\n",
    "    single_sizes = singles[\"msize\"].value_counts().sort_index()\n",
    "    return single_sizes\n",
    "\n",
    "\n",
    "def figure_1d(df, ax):\n",
    "    \"\"\"Plot bar chart of single strand size distribution.\n",
    "\n",
    "    Args:\n",
    "        df: DataFrame containing motif data\n",
    "        ax: matplotlib axis to plot on\n",
    "    \"\"\"\n",
    "    # Get single strands and their sizes\n",
    "    single_sizes = get_single_strand_data(df)\n",
    "\n",
    "    # Create bar plot of single strand sizes\n",
    "    ax.bar(single_sizes.index, single_sizes.values, edgecolor=\"black\", width=0.5)\n",
    "    ax.set_xticks(single_sizes.index)\n",
    "    ax.set_xlabel(\"Single Strand Size (nt)\", labelpad=2)\n",
    "\n",
    "    # Label every other bar\n",
    "    labels = [str(x) if i % 2 == 0 else \"\" for i, x in enumerate(single_sizes.index)]\n",
    "    ax.set_xticklabels(labels, rotation=0)\n",
    "    ax.set_yticks([0, 3000, 6000, 9000, 12000, 15000])\n",
    "    ax.set_yticklabels([\"0\", \"3\", \"6\", \"9\", \"12\", \"15\"])\n",
    "\n",
    "    ax.set_ylabel(\"Count (10$^3$)\", labelpad=1)\n",
    "    publication_style_ax(ax, fsize=8, ytick_size=6, xtick_size=6)\n",
    "\n",
    "\n",
    "fig, ax = plt.subplots(figsize=(1.5, 1.5))\n",
    "figure_1d(df, ax)"
   ]
  },
  {
   "cell_type": "code",
   "execution_count": 13,
   "id": "edfd865b",
   "metadata": {},
   "outputs": [
    {
     "name": "stdout",
     "output_type": "stream",
     "text": [
      "msize\n",
      "1     0.492447\n",
      "2     0.594563\n",
      "3     0.677253\n",
      "4     0.754486\n",
      "5     0.804283\n",
      "6     0.841338\n",
      "7     0.876155\n",
      "8     0.903214\n",
      "9     0.927055\n",
      "10    0.944148\n",
      "11    0.955596\n",
      "12    0.965436\n",
      "13    0.972973\n",
      "14    0.979501\n",
      "15    0.984579\n",
      "16    0.988868\n",
      "17    0.991548\n",
      "18    0.994576\n",
      "19    0.997729\n",
      "20    1.000000\n",
      "Name: count, dtype: float64\n"
     ]
    }
   ],
   "source": [
    "# Calculate cumulative counts for single strand sizes\n",
    "single_sizes = get_single_strand_data(df)\n",
    "cumulative_counts = single_sizes.sort_index().cumsum()\n",
    "print(cumulative_counts / single_sizes.sum())"
   ]
  },
  {
   "cell_type": "markdown",
   "id": "ede494bf",
   "metadata": {},
   "source": [
    "## Two-way junction size distribution"
   ]
  },
  {
   "cell_type": "code",
   "execution_count": 21,
   "id": "326a3b95",
   "metadata": {},
   "outputs": [
    {
     "data": {
      "image/png": "[encoded data removed]",
      "text/plain": [
       "<Figure size 550x150 with 1 Axes>"
      ]
     },
     "metadata": {},
     "output_type": "display_data"
    }
   ],
   "source": [
    "def get_twoway_data(df):\n",
    "    \"\"\"Get two-way junction data and their sizes.\n",
    "\n",
    "    Args:\n",
    "        df: DataFrame containing motif data\n",
    "\n",
    "    Returns:\n",
    "        Series containing two-way junction size counts\n",
    "    \"\"\"\n",
    "    twoways = df.query(\"motif_type == 'Two-way'\").copy()\n",
    "    twoways = add_residue_count(twoways)\n",
    "    twoways = twoways.query(\"residue_num <= 15\")\n",
    "    twoway_sizes = twoways[\"msize\"].value_counts()\n",
    "    return twoway_sizes\n",
    "\n",
    "\n",
    "def figure_1e(df, ax):\n",
    "    \"\"\"Plot bar chart of two-way junction size distribution.\n",
    "\n",
    "    Args:\n",
    "        df: DataFrame containing motif data\n",
    "        ax: matplotlib axis to plot on\n",
    "    \"\"\"\n",
    "    # Get two-way junctions and their sizes\n",
    "    twoway_sizes = get_twoway_data(df)\n",
    "\n",
    "    # Create bar plot of twoway sizes\n",
    "    ax.bar(twoway_sizes.index, twoway_sizes.values, edgecolor=\"black\", width=0.5)\n",
    "    ax.set_xticks(twoway_sizes.index)\n",
    "    ax.set_xlabel(\"Twoway Junction Topology\", labelpad=2)\n",
    "\n",
    "    # Label every bar\n",
    "    labels = [str(x) for x in twoway_sizes.index]\n",
    "    ax.set_xticklabels(labels, rotation=90)\n",
    "    ax.set_yticks([0, 1000, 2000, 3000, 4000])\n",
    "    ax.set_yticklabels([\"0\", \"1\", \"2\", \"3\", \"4\"])\n",
    "\n",
    "    # Remove tick marks\n",
    "    ax.tick_params(axis=\"x\", size=0)\n",
    "\n",
    "    ax.set_ylabel(\"Count (10$^3$)\", labelpad=2)\n",
    "    publication_style_ax(ax, fsize=8, ytick_size=6, xtick_size=6)\n",
    "\n",
    "\n",
    "# Create the plot\n",
    "fig, ax = plt.subplots(figsize=(5.5, 1.5))\n",
    "figure_1e(df, ax)"
   ]
  },
  {
   "cell_type": "markdown",
   "id": "5491130a",
   "metadata": {},
   "source": [
    "## N-way junction strand count distribution"
   ]
  },
  {
   "cell_type": "code",
   "execution_count": 24,
   "id": "ac4ac122",
   "metadata": {},
   "outputs": [
    {
     "data": {
      "image/png": "[encoded data removed]",
      "text/plain": [
       "<Figure size 250x250 with 1 Axes>"
      ]
     },
     "metadata": {},
     "output_type": "display_data"
    }
   ],
   "source": [
    "def get_nway_data(df):\n",
    "    \"\"\"Get N-way junction strand count data.\n",
    "\n",
    "    Args:\n",
    "        df: DataFrame containing motif data\n",
    "\n",
    "    Returns:\n",
    "        Series containing N-way junction strand counts\n",
    "    \"\"\"\n",
    "    nways = df.query(\"motif_type == 'N-way'\").copy()\n",
    "    # Count number of strands by counting \"-\" in sequence and adding 1\n",
    "    nways[\"num_strands\"] = nways[\"msequence\"].str.count(\"-\") + 1\n",
    "    strand_counts = nways[\"num_strands\"].value_counts().sort_index()\n",
    "    return strand_counts\n",
    "\n",
    "\n",
    "def figure_1f(df, ax):\n",
    "    \"\"\"Plot bar chart of N-way junction strand count distribution.\n",
    "\n",
    "    Args:\n",
    "        df: DataFrame containing motif data\n",
    "        ax: matplotlib axis to plot on\n",
    "    \"\"\"\n",
    "    # Get N-way junctions and their strand counts\n",
    "    strand_counts = get_nway_data(df)\n",
    "\n",
    "    # Create bar plot of strand counts\n",
    "    ax.bar(strand_counts.index, strand_counts.values, edgecolor=\"black\", width=0.5)\n",
    "    ax.set_xticks(strand_counts.index)\n",
    "    ax.set_xlabel(\"Number of Strands\", labelpad=2)\n",
    "\n",
    "    # Label every bar since there will be fewer bars\n",
    "    ax.set_xticklabels([str(x) for x in strand_counts.index], rotation=0)\n",
    "    ax.set_ylabel(\"Count (10$^3$)\", labelpad=4)\n",
    "    ax.set_yticks([0, 1000, 2000])\n",
    "    ax.set_yticklabels([\"0\", \"1\", \"2\"])\n",
    "    publication_style_ax(ax, fsize=8, ytick_size=6, xtick_size=6)\n",
    "\n",
    "\n",
    "# Create the plot\n",
    "fig, ax = plt.subplots(figsize=(2.5, 2.5))\n",
    "figure_1f(df, ax)"
   ]
  },
  {
   "cell_type": "markdown",
   "id": "82de847d",
   "metadata": {},
   "source": [
    "## Final Figure"
   ]
  },
  {
   "cell_type": "code",
   "execution_count": 23,
   "id": "88dd72fd",
   "metadata": {},
   "outputs": [
    {
     "data": {
      "image/png": "[encoded data removed]",
      "text/plain": [
       "<Figure size 700x400 with 6 Axes>"
      ]
     },
     "metadata": {},
     "output_type": "display_data"
    }
   ],
   "source": [
    "fig_size = (7, 4)\n",
    "layout = (2, 4)\n",
    "subplot_size = (1.3, 1.3)  # Each subplot is 4\" x 3\"\n",
    "spacing = {\n",
    "    \"hspace\": 0.45,  # horizontal spacing in inches\n",
    "    \"wspace\": 0.50,  # vertical spacing in inches\n",
    "    \"margins\": {\"left\": 0.30, \"right\": 0.0, \"top\": 0.0, \"bottom\": 0.70},\n",
    "}\n",
    "\n",
    "coords_list = calculate_subplot_coordinates(fig_size, layout, subplot_size, spacing)\n",
    "# combine subplots 4, 5, and 6 into one subplot\n",
    "coords_list = merge_sequential_coords(coords_list, 4, 6)\n",
    "\n",
    "fig = plt.figure(figsize=(7, 4), dpi=100)\n",
    "\n",
    "# Create subplots\n",
    "ax1 = fig.add_axes(coords_list[0])\n",
    "figure_1a(df, ax1)\n",
    "\n",
    "ax2 = fig.add_axes(coords_list[1])\n",
    "figure_1b(df, ax2)\n",
    "\n",
    "ax3 = fig.add_axes(coords_list[2])\n",
    "figure_1c(df, ax3)\n",
    "\n",
    "ax4 = fig.add_axes(coords_list[3])\n",
    "figure_1d(df, ax4)\n",
    "\n",
    "ax5 = fig.add_axes(coords_list[4])\n",
    "figure_1e(df, ax5)\n",
    "\n",
    "ax6 = fig.add_axes(coords_list[-1])\n",
    "figure_1f(df, ax6)\n",
    "\n",
    "\n",
    "# Usage:\n",
    "# draw_box_around_subplot(\n",
    "#    fig, coords_list[0], linewidth=1, edgecolor=\"red\", facecolor=\"none\"\n",
    "# )\n",
    "# draw_box_around_subplot(\n",
    "#    fig, coords_list[1], linewidth=1, edgecolor=\"blue\", facecolor=\"none\"\n",
    "# )\n",
    "# draw_box_around_subplot(\n",
    "#    fig, coords_list[2], linewidth=1, edgecolor=\"green\", facecolor=\"none\"\n",
    "# )\n",
    "# draw_box_around_subplot(\n",
    "#    fig, coords_list[3], linewidth=1, edgecolor=\"orange\", facecolor=\"none\"\n",
    "# )\n",
    "\n",
    "# draw_box_around_figure(fig, linewidth=2, edgecolor=\"black\")\n",
    "\n",
    "# add_text_inches(fig, fig_width, fig_height, 0.1, 0.1, \"A\", fontsize=12, weight=\"bold\")\n",
    "letters = [\"A\", \"B\", \"C\", \"D\", \"E\", \"F\"]\n",
    "for i, letter in enumerate(letters):\n",
    "    fig.text(\n",
    "        coords_list[i][0] - 0.3 / fig_size[0],\n",
    "        coords_list[i][1] + 1.3 / fig_size[1],\n",
    "        letter,\n",
    "        fontsize=12,\n",
    "        weight=\"bold\",\n",
    "    )\n",
    "\n",
    "\n",
    "plt.show()\n",
    "fig.savefig(os.path.join(PLOT_PATH, \"Figure_1.png\"), dpi=600)"
   ]
  },
  {
   "cell_type": "code",
   "execution_count": null,
   "id": "730ff438",
   "metadata": {},
   "outputs": [],
   "source": []
  },
  {
   "cell_type": "code",
   "execution_count": null,
   "id": "bb39285c",
   "metadata": {},
   "outputs": [],
   "source": []
  },
  {
   "cell_type": "code",
   "execution_count": null,
   "id": "15b4d671",
   "metadata": {},
   "outputs": [],
   "source": []
  },
  {
   "cell_type": "code",
   "execution_count": null,
   "id": "26621774",
   "metadata": {},
   "outputs": [],
   "source": []
  },
  {
   "cell_type": "code",
   "execution_count": null,
   "id": "8dd8bb7e",
   "metadata": {},
   "outputs": [],
   "source": []
  }
 ],
 "metadata": {
  "kernelspec": {
   "display_name": "py3",
   "language": "python",
   "name": "python3"
  },
  "language_info": {
   "codemirror_mode": {
    "name": "ipython",
    "version": 3
   },
   "file_extension": ".py",
   "mimetype": "text/x-python",
   "name": "python",
   "nbconvert_exporter": "python",
   "pygments_lexer": "ipython3",
   "version": "3.8.19"
  }
 },
 "nbformat": 4,
 "nbformat_minor": 5
}
