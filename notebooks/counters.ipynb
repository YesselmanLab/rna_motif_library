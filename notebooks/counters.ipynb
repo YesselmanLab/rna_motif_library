{
 "cells": [
  {
   "cell_type": "code",
   "execution_count": 23,
   "id": "48e58b40-846c-455d-b1c8-738353a83112",
   "metadata": {},
   "outputs": [],
   "source": [
    "# file to count generated motifs\n",
    "import pandas as pd\n",
    "import os\n",
    "\n",
    "# function setup\n",
    "def count_cif_files(directory):\n",
    "    cif_count = 0\n",
    "    for root, dirs, files in os.walk(directory):\n",
    "        for file in files:\n",
    "            if file.endswith('.cif'):\n",
    "                cif_count += 1\n",
    "    return cif_count\n"
   ]
  },
  {
   "cell_type": "code",
   "execution_count": 24,
   "id": "7b423ca1-d9f5-4ade-a9a2-a8133cf4e514",
   "metadata": {},
   "outputs": [
    {
     "name": "stdout",
     "output_type": "stream",
     "text": [
      "Number of hairpins: 19126\n",
      "Number of helices: 46782\n",
      "Number of n-way jcts: 7696\n",
      "Number of 2-way jcts: 26634\n",
      "Number of single strands: 8427\n"
     ]
    }
   ],
   "source": [
    "# count files here\n",
    "data_dir = \"../data/\"\n",
    "\n",
    "# set up directories to count stuff\n",
    "hairpins_dir = os.path.join(data_dir, \"motifs/HAIRPIN/\")\n",
    "helices_dir = os.path.join(data_dir, \"motifs/HELIX/\")\n",
    "nways_dir = os.path.join(data_dir, \"motifs/NWAY/\")\n",
    "twoways_dir = os.path.join(data_dir, \"motifs/TWOWAY/\")\n",
    "sstrand_dir = os.path.join(data_dir, \"motifs/SSTRAND/\")\n",
    "\n",
    "hairpin_count = count_cif_files(hairpins_dir)\n",
    "helix_count = count_cif_files(helices_dir)\n",
    "nway_jct_count = count_cif_files(nways_dir)\n",
    "twoway_jct_count = count_cif_files(twoways_dir)\n",
    "sstrand_count = count_cif_files(sstrand_dir)\n",
    "\n",
    "print(f\"Number of hairpins: {hairpin_count}\")\n",
    "print(f\"Number of helices: {helix_count}\")\n",
    "print(f\"Number of n-way jcts: {nway_jct_count}\")\n",
    "print(f\"Number of 2-way jcts: {twoway_jct_count}\")\n",
    "print(f\"Number of single strands: {sstrand_count}\")\n"
   ]
  },
  {
   "cell_type": "code",
   "execution_count": 25,
   "id": "36da35d7-2659-4c16-8549-9b6c70c2e230",
   "metadata": {},
   "outputs": [
    {
     "name": "stdout",
     "output_type": "stream",
     "text": [
      "{3: 4522, 4: 1724, 5: 979, 6: 208, 7: 260, 8: 3}\n"
     ]
    }
   ],
   "source": [
    "# Count numbers of n-way junctions\n",
    "\n",
    "def count_nway_junctions(directory):\n",
    "    junction_counts = {}\n",
    "\n",
    "    for root, dirs, files in os.walk(directory):\n",
    "        path_parts = root.split(\"/\")  # Split the path to get parts\n",
    "        if len(path_parts) > 1:\n",
    "            junction_part = path_parts[-2]  # Get the second-to-last part of the path\n",
    "            n_junctions = len(junction_part.split(\"-\"))  # Count elements after splitting by '-'\n",
    "\n",
    "            for file in files:\n",
    "                if file.endswith('.cif'):\n",
    "                    if n_junctions not in junction_counts:\n",
    "                        junction_counts[n_junctions] = 0\n",
    "                    junction_counts[n_junctions] += 1  # Increment the count for this n-way junction\n",
    "\n",
    "    return junction_counts\n",
    "\n",
    "# Print number of n-way junctions of each\n",
    "print(count_nway_junctions(nways_dir))\n",
    "    \n",
    "\n"
   ]
  },
  {
   "cell_type": "code",
   "execution_count": null,
   "id": "eb32a6bc-89b7-478e-8faf-70b15f5dcef2",
   "metadata": {},
   "outputs": [],
   "source": []
  }
 ],
 "metadata": {
  "kernelspec": {
   "display_name": "Python 3 (ipykernel)",
   "language": "python",
   "name": "python3"
  },
  "language_info": {
   "codemirror_mode": {
    "name": "ipython",
    "version": 3
   },
   "file_extension": ".py",
   "mimetype": "text/x-python",
   "name": "python",
   "nbconvert_exporter": "python",
   "pygments_lexer": "ipython3",
   "version": "3.12.4"
  }
 },
 "nbformat": 4,
 "nbformat_minor": 5
}
