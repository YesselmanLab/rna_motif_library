{
 "cells": [
  {
   "cell_type": "code",
   "execution_count": 1,
   "metadata": {},
   "outputs": [],
   "source": [
    "import pandas as pd\n",
    "import numpy as np\n",
    "import seaborn as sns\n",
    "import matplotlib.pyplot as plt\n",
    "from rna_motif_library.plotting import publication_style_ax\n",
    "from rna_motif_library.util import parse_motif_name"
   ]
  },
  {
   "cell_type": "code",
   "execution_count": 17,
   "metadata": {},
   "outputs": [
    {
     "name": "stdout",
     "output_type": "stream",
     "text": [
      "992102\n"
     ]
    }
   ],
   "source": [
    "df = pd.read_csv(\"../check_motifs_analysis.csv\")\n",
    "print(len(df))"
   ]
  },
  {
   "cell_type": "code",
   "execution_count": 3,
   "metadata": {},
   "outputs": [],
   "source": [
    "df_non_helix = df[df[\"motif_type\"] != \"HELIX\"]"
   ]
  },
  {
   "cell_type": "code",
   "execution_count": 4,
   "metadata": {},
   "outputs": [
    {
     "data": {
      "text/plain": [
       "523806"
      ]
     },
     "execution_count": 4,
     "metadata": {},
     "output_type": "execute_result"
    }
   ],
   "source": [
    "len(df_non_helix)"
   ]
  },
  {
   "cell_type": "code",
   "execution_count": 5,
   "metadata": {},
   "outputs": [
    {
     "data": {
      "text/plain": [
       "33"
      ]
     },
     "execution_count": 5,
     "metadata": {},
     "output_type": "execute_result"
    }
   ],
   "source": [
    "len(df_non_helix.query(\"flanking_helices == False\"))"
   ]
  },
  {
   "cell_type": "code",
   "execution_count": 6,
   "metadata": {},
   "outputs": [
    {
     "data": {
      "text/plain": [
       "22382"
      ]
     },
     "execution_count": 6,
     "metadata": {},
     "output_type": "execute_result"
    }
   ],
   "source": [
    "len(df_non_helix.query(\"contains_helix == True\"))"
   ]
  },
  {
   "cell_type": "code",
   "execution_count": 7,
   "metadata": {},
   "outputs": [
    {
     "data": {
      "text/html": [
       "<div>\n",
       "<style scoped>\n",
       "    .dataframe tbody tr th:only-of-type {\n",
       "        vertical-align: middle;\n",
       "    }\n",
       "\n",
       "    .dataframe tbody tr th {\n",
       "        vertical-align: top;\n",
       "    }\n",
       "\n",
       "    .dataframe thead th {\n",
       "        text-align: right;\n",
       "    }\n",
       "</style>\n",
       "<table border=\"1\" class=\"dataframe\">\n",
       "  <thead>\n",
       "    <tr style=\"text-align: right;\">\n",
       "      <th></th>\n",
       "      <th>pdb_id</th>\n",
       "      <th>motif_name</th>\n",
       "      <th>motif_type</th>\n",
       "      <th>flanking_helices</th>\n",
       "      <th>contains_helix</th>\n",
       "    </tr>\n",
       "  </thead>\n",
       "  <tbody>\n",
       "    <tr>\n",
       "      <th>30</th>\n",
       "      <td>8D8L</td>\n",
       "      <td>NWAY-6-3-2-AAUAAAAU-AUGAU-AAAU-8D8L-1</td>\n",
       "      <td>NWAY</td>\n",
       "      <td>True</td>\n",
       "      <td>True</td>\n",
       "    </tr>\n",
       "    <tr>\n",
       "      <th>60</th>\n",
       "      <td>8D8L</td>\n",
       "      <td>TWOWAY-28-3-UUUAAUUCGAUAAUCCACGACUAACCUUAC-GGU...</td>\n",
       "      <td>TWOWAY</td>\n",
       "      <td>True</td>\n",
       "      <td>True</td>\n",
       "    </tr>\n",
       "    <tr>\n",
       "      <th>77</th>\n",
       "      <td>8D8L</td>\n",
       "      <td>TWOWAY-9-7-UUUAAUUAAUA-UAUAUAAAA-8D8L-1</td>\n",
       "      <td>TWOWAY</td>\n",
       "      <td>True</td>\n",
       "      <td>True</td>\n",
       "    </tr>\n",
       "    <tr>\n",
       "      <th>302</th>\n",
       "      <td>7JIL</td>\n",
       "      <td>TWOWAY-1-1-GUG-UGC-7JIL-1</td>\n",
       "      <td>TWOWAY</td>\n",
       "      <td>True</td>\n",
       "      <td>True</td>\n",
       "    </tr>\n",
       "    <tr>\n",
       "      <th>306</th>\n",
       "      <td>7JIL</td>\n",
       "      <td>NWAY-8-4-4-CGCCAAAGAG-CGGAAG-CGUAUG-7JIL-1</td>\n",
       "      <td>NWAY</td>\n",
       "      <td>True</td>\n",
       "      <td>True</td>\n",
       "    </tr>\n",
       "    <tr>\n",
       "      <th>...</th>\n",
       "      <td>...</td>\n",
       "      <td>...</td>\n",
       "      <td>...</td>\n",
       "      <td>...</td>\n",
       "      <td>...</td>\n",
       "    </tr>\n",
       "    <tr>\n",
       "      <th>991680</th>\n",
       "      <td>8P17</td>\n",
       "      <td>TWOWAY-5-4-UGUUUGG-CXGAUA-8P17-1</td>\n",
       "      <td>TWOWAY</td>\n",
       "      <td>True</td>\n",
       "      <td>True</td>\n",
       "    </tr>\n",
       "    <tr>\n",
       "      <th>991727</th>\n",
       "      <td>8P17</td>\n",
       "      <td>HAIRPIN-10-GGACCUUCGGGC-8P17-1</td>\n",
       "      <td>HAIRPIN</td>\n",
       "      <td>True</td>\n",
       "      <td>True</td>\n",
       "    </tr>\n",
       "    <tr>\n",
       "      <th>991753</th>\n",
       "      <td>8P17</td>\n",
       "      <td>NWAY-12-5-1-AGGAAUACCGGUGG-UAGAAUU-CGG-8P17-1</td>\n",
       "      <td>NWAY</td>\n",
       "      <td>True</td>\n",
       "      <td>True</td>\n",
       "    </tr>\n",
       "    <tr>\n",
       "      <th>991776</th>\n",
       "      <td>8P17</td>\n",
       "      <td>TWOWAY-7-4-GUGCUGCAU-AUGXCC-8P17-1</td>\n",
       "      <td>TWOWAY</td>\n",
       "      <td>True</td>\n",
       "      <td>True</td>\n",
       "    </tr>\n",
       "    <tr>\n",
       "      <th>991779</th>\n",
       "      <td>8P17</td>\n",
       "      <td>NWAY-3-3-0-CGCAA-UGUUG-UG-8P17-1</td>\n",
       "      <td>NWAY</td>\n",
       "      <td>True</td>\n",
       "      <td>True</td>\n",
       "    </tr>\n",
       "  </tbody>\n",
       "</table>\n",
       "<p>22382 rows × 5 columns</p>\n",
       "</div>"
      ],
      "text/plain": [
       "       pdb_id                                         motif_name motif_type  \\\n",
       "30       8D8L              NWAY-6-3-2-AAUAAAAU-AUGAU-AAAU-8D8L-1       NWAY   \n",
       "60       8D8L  TWOWAY-28-3-UUUAAUUCGAUAAUCCACGACUAACCUUAC-GGU...     TWOWAY   \n",
       "77       8D8L            TWOWAY-9-7-UUUAAUUAAUA-UAUAUAAAA-8D8L-1     TWOWAY   \n",
       "302      7JIL                          TWOWAY-1-1-GUG-UGC-7JIL-1     TWOWAY   \n",
       "306      7JIL         NWAY-8-4-4-CGCCAAAGAG-CGGAAG-CGUAUG-7JIL-1       NWAY   \n",
       "...       ...                                                ...        ...   \n",
       "991680   8P17                   TWOWAY-5-4-UGUUUGG-CXGAUA-8P17-1     TWOWAY   \n",
       "991727   8P17                     HAIRPIN-10-GGACCUUCGGGC-8P17-1    HAIRPIN   \n",
       "991753   8P17      NWAY-12-5-1-AGGAAUACCGGUGG-UAGAAUU-CGG-8P17-1       NWAY   \n",
       "991776   8P17                 TWOWAY-7-4-GUGCUGCAU-AUGXCC-8P17-1     TWOWAY   \n",
       "991779   8P17                   NWAY-3-3-0-CGCAA-UGUUG-UG-8P17-1       NWAY   \n",
       "\n",
       "        flanking_helices contains_helix  \n",
       "30                  True           True  \n",
       "60                  True           True  \n",
       "77                  True           True  \n",
       "302                 True           True  \n",
       "306                 True           True  \n",
       "...                  ...            ...  \n",
       "991680              True           True  \n",
       "991727              True           True  \n",
       "991753              True           True  \n",
       "991776              True           True  \n",
       "991779              True           True  \n",
       "\n",
       "[22382 rows x 5 columns]"
      ]
     },
     "execution_count": 7,
     "metadata": {},
     "output_type": "execute_result"
    }
   ],
   "source": [
    "df_non_helix.query(\"contains_helix == True\")"
   ]
  },
  {
   "cell_type": "code",
   "execution_count": 13,
   "metadata": {},
   "outputs": [
    {
     "name": "stdout",
     "output_type": "stream",
     "text": [
      "Number of PDBs with contains_helix=True: 2187\n",
      "\n",
      "Top 10 PDBs with most motifs containing helices:\n",
      "4V9O    60\n",
      "6C5L    60\n",
      "4V5A    57\n",
      "6SV4    55\n",
      "8P4V    53\n",
      "6CZR    51\n",
      "5MEI    50\n",
      "5TGM    50\n",
      "4WT1    49\n",
      "6QNQ    49\n",
      "7MSH    48\n",
      "5DGV    48\n",
      "8P9A    48\n",
      "5DAT    48\n",
      "5DGE    47\n",
      "6I7V    47\n",
      "4U56    47\n",
      "5DC3    46\n",
      "5ON6    46\n",
      "4V9C    46\n",
      "Name: pdb_id, dtype: int64\n"
     ]
    }
   ],
   "source": [
    "# Count PDBs with contains_helix=True\n",
    "pdb_counts = df_non_helix.query(\"contains_helix == True\")[\"pdb_id\"].value_counts()\n",
    "print(f\"Number of PDBs with contains_helix=True: {len(pdb_counts)}\")\n",
    "print(\"\\nTop 10 PDBs with most motifs containing helices:\")\n",
    "print(pdb_counts.head(20))"
   ]
  },
  {
   "cell_type": "code",
   "execution_count": 16,
   "metadata": {},
   "outputs": [
    {
     "name": "stdout",
     "output_type": "stream",
     "text": [
      "Number of motifs in 4V90 containing helices: 60\n",
      "\n",
      "Motifs in 4V90 containing helices:\n",
      "                                                                                            motif_name motif_type\n",
      "743623                                                               TWOWAY-7-3-CGUUAUAAC-GUAAG-4V9O-1     TWOWAY\n",
      "743692                           NWAY-4-3-2-2-1-1-0-0-0-GGUGAG-GGUUC-GAAA-GUAC-AAU-ACC-CU-UA-UC-4V9O-1       NWAY\n",
      "743705                                                                 TWOWAY-4-4-CUGAGG-UGUAGG-4V9O-1     TWOWAY\n",
      "743720                                                                    HAIRPIN-9-UCCCUCGCGGA-4V9O-1    HAIRPIN\n",
      "743733                                                                      HAIRPIN-7-GGUAAGUUC-4V9O-1    HAIRPIN\n",
      "743738                       NWAY-11-8-7-6-4-CACCUCGAUGUCG-GGAUAACAGG-UGGGUUUAG-GAAAGACC-CGGUCC-4V9O-1       NWAY\n",
      "743753                                                                    HAIRPIN-9-GGUCGGACAUC-4V9O-1    HAIRPIN\n",
      "743761                                                                  TWOWAY-4-3-UGUUUG-UGAUA-4V9O-1     TWOWAY\n",
      "743843                                                   NWAY-12-5-1-AGGAAUACCGGUGG-UAGAAUU-CGG-4V9O-1       NWAY\n",
      "743863                                                         TWOWAY-13-2-UGUGCCUUCGGGAAC-GAAG-4V9O-1     TWOWAY\n",
      "743867                                                                     TWOWAY-3-1-UGCAU-AUG-4V9O-1     TWOWAY\n",
      "743900                                                               TWOWAY-7-3-CGUUAUAAC-GUAAG-4V9O-2     TWOWAY\n",
      "743959                                                                    HAIRPIN-9-CUUAGAAGCAG-4V9O-2    HAIRPIN\n",
      "743970                           NWAY-4-3-2-2-1-1-0-0-0-GGUGAG-GGUUC-GAAA-GUAC-AAU-ACC-CU-UA-UC-4V9O-2       NWAY\n",
      "743983                                                                 TWOWAY-4-4-CUGAGG-UGUAGG-4V9O-2     TWOWAY\n",
      "743998                                                                    HAIRPIN-9-UCCCUCGCGGA-4V9O-2    HAIRPIN\n",
      "744031                                                                    HAIRPIN-9-GGUCGGACAUC-4V9O-2    HAIRPIN\n",
      "744039                                                                  TWOWAY-4-3-UGUUUG-UGAUA-4V9O-2     TWOWAY\n",
      "744058                                                               HAIRPIN-13-CUGAAAGCAUCUAAG-4V9O-2    HAIRPIN\n",
      "744123                                                   NWAY-12-5-1-AGGAAUACCGGUGG-UAGAAUU-CGG-4V9O-2       NWAY\n",
      "744132                                                                      HAIRPIN-7-CCCUUGAGG-4V9O-1    HAIRPIN\n",
      "744148                                                                     TWOWAY-3-1-UGCAU-AUG-4V9O-2     TWOWAY\n",
      "744154                                                          TWOWAY-8-7-GUUGCCAGCG-CGGGAACUC-4V9O-1     TWOWAY\n",
      "744180                                                               TWOWAY-7-3-CGUUAUAAC-GUAAG-4V9O-3     TWOWAY\n",
      "744191                                                              TWOWAY-7-4-CCUGAAUCA-UGUGAG-4V9O-1     TWOWAY\n",
      "744203                                                                  HAIRPIN-10-ACGCUUAGGCGU-4V9O-1    HAIRPIN\n",
      "744237                                                                    HAIRPIN-9-CUUAGAAGCAG-4V9O-3    HAIRPIN\n",
      "744248                           NWAY-4-3-2-2-1-1-0-0-0-GGUGAG-GGUUC-GAAA-GUAC-AAU-ACC-CU-UA-UC-4V9O-3       NWAY\n",
      "744309                                                                    HAIRPIN-9-GGUCGGACAUC-4V9O-3    HAIRPIN\n",
      "744317                                                                  TWOWAY-4-3-UGUUUG-UGAUA-4V9O-3     TWOWAY\n",
      "744335                                                               HAIRPIN-13-CUGAAAGCAUCUAAG-4V9O-3    HAIRPIN\n",
      "744401                                                   NWAY-12-5-1-AGGAAUACCGGUGG-UAGAAUU-CGG-4V9O-3       NWAY\n",
      "744461                                                               TWOWAY-7-3-CGUUAUAAC-GUAAG-4V9O-4     TWOWAY\n",
      "744466                        NWAY-22-6-4-3-0-GAGGAAAAGAAAUCAACCGAGAUU-CUAAAUAC-CGAACC-AGCAG-GG-4V9O-1       NWAY\n",
      "744471                                                                       TWOWAY-1-1-AUG-UGU-4V9O-1     TWOWAY\n",
      "744481                                                                  HAIRPIN-10-ACGCUUAGGCGU-4V9O-2    HAIRPIN\n",
      "744496                      NWAY-7-6-5-5-3-2-0-GAGACACAC-GUGAAGAG-CCGAAAG-GGGUAGG-CAGAC-CGCC-GC-4V9O-1       NWAY\n",
      "744499                                   TWOWAY-18-18-CGGGGGUAGAGCACUGUUUC-GAUGCAAACUGCGAAUACCG-4V9O-1     TWOWAY\n",
      "744508                                                                       TWOWAY-1-1-CCA-UGG-4V9O-1     TWOWAY\n",
      "744511                                                             TWOWAY-8-4-CCCAGACAGC-GUCGAG-4V9O-1     TWOWAY\n",
      "744524                           NWAY-4-3-2-2-1-1-0-0-0-GGUGAG-GGUUC-GAAA-GUAC-AAU-ACC-CU-UA-UC-4V9O-4       NWAY\n",
      "744531                                                                       TWOWAY-1-1-UAA-UUA-4V9O-1     TWOWAY\n",
      "744538                                                                 TWOWAY-4-4-CUGAGG-UGUAGG-4V9O-3     TWOWAY\n",
      "744573  NWAY-13-13-7-3-2-2-1-0-AGGUCAUAGUGAUCC-GCUCAACGGAUAAAA-AGCACGAAG-UUGAC-UUUA-UUUG-GGU-CU-4V9O-1       NWAY\n",
      "744577                                                                     TWOWAY-2-2-AUUG-UGAU-4V9O-1     TWOWAY\n",
      "744587                                                                    HAIRPIN-9-GGUCGGACAUC-4V9O-4    HAIRPIN\n",
      "744595                                                                TWOWAY-5-4-UGUUUGG-CUGAUA-4V9O-1     TWOWAY\n",
      "744671                                                               TWOWAY-5-5-CACGCAG-UCAGGUG-4V9O-1     TWOWAY\n",
      "744672                                                             NWAY-4-4-1-CUGACG-CUUGAG-CGG-4V9O-1       NWAY\n",
      "744677                                                                  TWOWAY-4-3-GUAGAG-UGGAC-4V9O-1     TWOWAY\n",
      "744678                                                   NWAY-12-5-1-AGGAAUACCGGUGG-UAGAAUU-CGG-4V9O-4       NWAY\n",
      "744679                                                            TWOWAY-8-5-CGUAGAGAUC-GGUGUAG-4V9O-1     TWOWAY\n",
      "744683                                                            TWOWAY-8-5-GGGAGCAAAC-GGUAGUC-4V9O-1     TWOWAY\n",
      "744686                                                                    HAIRPIN-9-GCCCUUGAGGC-4V9O-1    HAIRPIN\n",
      "744694                                                                       TWOWAY-1-1-CAU-GUG-4V9O-1     TWOWAY\n",
      "744698                                                                  HAIRPIN-10-UUCAGAGAUGAG-4V9O-1    HAIRPIN\n",
      "744699                              NWAY-18-15-5-GAUGACGUCAAGUCAUCAUG-UGCAUGGCUGUCGUCAG-CGCAACC-4V9O-1       NWAY\n",
      "744704                                                                       TWOWAY-1-1-AAA-UUU-4V9O-1     TWOWAY\n",
      "744710                                                                       TWOWAY-1-1-CGC-GCG-4V9O-1     TWOWAY\n",
      "744715                                                                  HAIRPIN-10-UCUGCAACUCGA-4V9O-1    HAIRPIN\n"
     ]
    }
   ],
   "source": [
    "# Get motifs from 4V90 that contain helices\n",
    "motifs_4v9O = df_non_helix.query(\"pdb_id == '4V9O' and contains_helix == True\")\n",
    "print(f\"Number of motifs in 4V90 containing helices: {len(motifs_4v9O)}\")\n",
    "print(\"\\nMotifs in 4V90 containing helices:\")\n",
    "print(motifs_4v9O[[\"motif_name\", \"motif_type\"]].to_string())"
   ]
  },
  {
   "cell_type": "markdown",
   "metadata": {},
   "source": []
  }
 ],
 "metadata": {
  "kernelspec": {
   "display_name": "py3",
   "language": "python",
   "name": "python3"
  },
  "language_info": {
   "codemirror_mode": {
    "name": "ipython",
    "version": 3
   },
   "file_extension": ".py",
   "mimetype": "text/x-python",
   "name": "python",
   "nbconvert_exporter": "python",
   "pygments_lexer": "ipython3",
   "version": "3.8.19"
  }
 },
 "nbformat": 4,
 "nbformat_minor": 2
}
