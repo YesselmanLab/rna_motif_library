{
 "cells": [
  {
   "cell_type": "code",
   "execution_count": 1,
   "id": "06395bb4-cdd1-4325-a3c1-2ad770169c98",
   "metadata": {},
   "outputs": [],
   "source": [
    "import os\n",
    "from math import ceil\n",
    "import shutil\n",
    "\n",
    "def distribute_files(directory, num_sets):\n",
    "    # Ensure the directory exists\n",
    "    if not os.path.exists(directory):\n",
    "        print(\"The specified directory does not exist.\")\n",
    "        return\n",
    "    \n",
    "    # List all .cif files in the directory\n",
    "    cif_files = [f for f in os.listdir(directory) if f.endswith('.cif')]\n",
    "    files_per_set = ceil(len(cif_files) / num_sets)\n",
    "    \n",
    "    # Create subdirectories and distribute files\n",
    "    for i in range(num_sets):\n",
    "        set_dir = os.path.join(directory, f'set_{i+1}')\n",
    "        os.makedirs(set_dir, exist_ok=True)\n",
    "        \n",
    "        # Get the slice of files for this set\n",
    "        start_index = i * files_per_set\n",
    "        end_index = start_index + files_per_set\n",
    "        set_files = cif_files[start_index:end_index]\n",
    "        \n",
    "        # Copy files to the new subdirectory instead of moving them\n",
    "        for file in set_files:\n",
    "            shutil.copy(os.path.join(directory, file), os.path.join(set_dir, file))\n",
    "        \n",
    "    print(f\"Files distributed into {num_sets} sets.\")\n"
   ]
  },
  {
   "cell_type": "code",
   "execution_count": 9,
   "id": "ab995e54-0ead-4e3e-816d-1350cc068d2d",
   "metadata": {},
   "outputs": [
    {
     "name": "stdout",
     "output_type": "stream",
     "text": [
      "/Users/jyesselm/PycharmProjects/rna_motif_library/notebooks\n",
      "/Users/jyesselm/PycharmProjects/rna_motif_library/notebooks/../data/pdbs\n",
      "/Users/jyesselm/PycharmProjects/rna_motif_library/notebooks/distributed_sets\n"
     ]
    }
   ],
   "source": [
    "this_directory = os.getcwd()\n",
    "print(this_directory)\n",
    "source_directory = os.path.join(this_directory, '..', 'data', 'pdbs')\n",
    "print(source_directory)\n",
    "target_directory = os.path.join(this_directory, 'distributed_sets')\n",
    "print(target_directory)\n",
    "os.makedirs(target_directory, exist_ok=True)\n"
   ]
  },
  {
   "cell_type": "code",
   "execution_count": null,
   "id": "291d3df3-4b9e-442d-8eae-24557702fefd",
   "metadata": {},
   "outputs": [],
   "source": [
    "for file_name in os.listdir(source_directory):\n",
    "    if file_name.endswith('.cif'):\n",
    "        source_file_path = os.path.join(source_directory, file_name)\n",
    "        target_file_path = os.path.join(target_directory, file_name)\n",
    "        shutil.copy(source_file_path, target_file_path)\n",
    "\n",
    "distribute_files(target_directory, num_of_sets)"
   ]
  }
 ],
 "metadata": {
  "kernelspec": {
   "display_name": "Python 3 (ipykernel)",
   "language": "python",
   "name": "python3"
  },
  "language_info": {
   "codemirror_mode": {
    "name": "ipython",
    "version": 3
   },
   "file_extension": ".py",
   "mimetype": "text/x-python",
   "name": "python",
   "nbconvert_exporter": "python",
   "pygments_lexer": "ipython3",
   "version": "3.12.4"
  }
 },
 "nbformat": 4,
 "nbformat_minor": 5
}
