{
 "cells": [
  {
   "cell_type": "code",
   "execution_count": 77,
   "metadata": {},
   "outputs": [],
   "source": [
    "import pandas as pd\n",
    "import numpy as np\n",
    "import seaborn as sns\n",
    "import matplotlib.pyplot as plt\n",
    "from rna_motif_library.plotting import publication_style_ax\n",
    "from rna_motif_library.util import parse_motif_name"
   ]
  },
  {
   "cell_type": "code",
   "execution_count": 33,
   "metadata": {},
   "outputs": [],
   "source": [
    "df = pd.read_json(\"../dssr_motifs_compared.json\")"
   ]
  },
  {
   "cell_type": "code",
   "execution_count": 34,
   "metadata": {},
   "outputs": [
    {
     "data": {
      "text/plain": [
       "1312540"
      ]
     },
     "execution_count": 34,
     "metadata": {},
     "output_type": "execute_result"
    }
   ],
   "source": [
    "len(df)"
   ]
  },
  {
   "cell_type": "code",
   "execution_count": 35,
   "metadata": {},
   "outputs": [],
   "source": [
    "df[\"in_tc\"] = df[\"in_tc\"].fillna(False)"
   ]
  },
  {
   "cell_type": "code",
   "execution_count": 36,
   "metadata": {},
   "outputs": [],
   "source": [
    "for i, row in df.iterrows():\n",
    "    if row[\"contained_in_motifs\"] is None:\n",
    "        df.at[i, \"contained_in_motifs\"] = []"
   ]
  },
  {
   "cell_type": "code",
   "execution_count": 52,
   "metadata": {},
   "outputs": [],
   "source": [
    "df[\"n_contained_in_motifs\"] = df[\"contained_in_motifs\"].apply(len)\n",
    "df[\"n_overlapping_motifs\"] = df[\"overlapping_motifs\"].apply(len)"
   ]
  },
  {
   "cell_type": "code",
   "execution_count": 82,
   "metadata": {},
   "outputs": [],
   "source": [
    "df_dssr = df.query(\"found == False\").copy()\n",
    "df_dssr[\"reason\"] = \"\"\n",
    "df_dssr.loc[(df_dssr[\"correct_n_strands\"] == False) & (df_dssr[\"reason\"] == \"\"), \"reason\"] = \"Incorrect number of strands\"\n",
    "df_dssr.loc[(df_dssr[\"correct_n_basepairs\"] == False) & (df_dssr[\"reason\"] == \"\"), \"reason\"] = \"Incorrect number of basepairs\"\n",
    "df_dssr.loc[(df_dssr[\"has_singlet_flank\"] == True) & (df_dssr[\"reason\"] == \"\"), \"reason\"] = \"Has singlet flank\"\n",
    "df_dssr.loc[(df_dssr[\"in_tc\"] == True) & (df_dssr[\"reason\"] == \"\"), \"reason\"] = \"In tertiary contact\"\n",
    "df_dssr.loc[(df_dssr[\"n_contained_in_motifs\"] > 0) & (df_dssr[\"reason\"] == \"\"), \"reason\"] = \"Contained in motif\"\n",
    "df_dssr.loc[(df_dssr[\"n_overlapping_motifs\"] > 0) & (df_dssr[\"reason\"] == \"\"), \"reason\"] = \"Combination of smaller motifs\""
   ]
  },
  {
   "cell_type": "code",
   "execution_count": 83,
   "metadata": {},
   "outputs": [
    {
     "data": {
      "image/png": "[encoded data removed]",
      "text/plain": [
       "<Figure size 250x250 with 1 Axes>"
      ]
     },
     "metadata": {},
     "output_type": "display_data"
    }
   ],
   "source": [
    "# Get value counts and sort in descending order\n",
    "reason_counts = df_dssr[\"reason\"].value_counts()\n",
    "\n",
    "# Create figure and axis\n",
    "fig, ax = plt.subplots(figsize=(2.5, 2.5))\n",
    "\n",
    "# Create horizontal bar plot with different colors\n",
    "colors = sns.color_palette(\"husl\", n_colors=len(reason_counts))\n",
    "bars = ax.barh(range(len(reason_counts)), reason_counts.values, color=colors, edgecolor='black')\n",
    "\n",
    "# Customize plot\n",
    "ax.set_yticks(range(len(reason_counts)))\n",
    "ax.set_yticklabels(reason_counts.index)\n",
    "ax.set_xlabel(\"Count\")\n",
    "ax.set_title(\"Reasons for DSSR Motifs Not Found\")\n",
    "ax.tick_params(axis='y', length=0)\n",
    "\n",
    "publication_style_ax(ax)\n"
   ]
  },
  {
   "cell_type": "code",
   "execution_count": 69,
   "metadata": {},
   "outputs": [
    {
     "name": "stdout",
     "output_type": "stream",
     "text": [
      "Has singlet flank                207160\n",
      "Incorrect number of basepairs     98601\n",
      "In tertiary contact               45634\n",
      "Contained in motifs               37763\n",
      "Incorrect number of strands       10801\n",
      "Overlapping motifs                 6494\n",
      "Name: reason, dtype: int64\n"
     ]
    }
   ],
   "source": [
    "print(df_dssr[\"reason\"].value_counts())"
   ]
  },
  {
   "cell_type": "code",
   "execution_count": 54,
   "metadata": {},
   "outputs": [
    {
     "data": {
      "text/plain": [
       "True     395652\n",
       "False     10801\n",
       "Name: correct_n_strands, dtype: int64"
      ]
     },
     "execution_count": 54,
     "metadata": {},
     "output_type": "execute_result"
    }
   ],
   "source": [
    "df_dssr[\"correct_n_strands\"].value_counts()"
   ]
  },
  {
   "cell_type": "code",
   "execution_count": 55,
   "metadata": {},
   "outputs": [
    {
     "data": {
      "text/plain": [
       "True     306183\n",
       "False    100270\n",
       "Name: correct_n_basepairs, dtype: int64"
      ]
     },
     "execution_count": 55,
     "metadata": {},
     "output_type": "execute_result"
    }
   ],
   "source": [
    "df_dssr[\"correct_n_basepairs\"].value_counts()"
   ]
  },
  {
   "cell_type": "code",
   "execution_count": 56,
   "metadata": {},
   "outputs": [
    {
     "data": {
      "text/plain": [
       "True     237579\n",
       "False    168874\n",
       "Name: has_singlet_flank, dtype: int64"
      ]
     },
     "execution_count": 56,
     "metadata": {},
     "output_type": "execute_result"
    }
   ],
   "source": [
    "df_dssr[\"has_singlet_flank\"].value_counts()"
   ]
  },
  {
   "cell_type": "code",
   "execution_count": 57,
   "metadata": {},
   "outputs": [
    {
     "data": {
      "text/plain": [
       "0.0    243664\n",
       "1.0    162789\n",
       "Name: in_tc, dtype: int64"
      ]
     },
     "execution_count": 57,
     "metadata": {},
     "output_type": "execute_result"
    }
   ],
   "source": [
    "df_dssr[\"in_tc\"].value_counts()"
   ]
  },
  {
   "cell_type": "code",
   "execution_count": 58,
   "metadata": {},
   "outputs": [
    {
     "data": {
      "text/plain": [
       "1    295343\n",
       "0    111110\n",
       "Name: n_contained_in_motifs, dtype: int64"
      ]
     },
     "execution_count": 58,
     "metadata": {},
     "output_type": "execute_result"
    }
   ],
   "source": [
    "df_dssr[\"n_contained_in_motifs\"].value_counts()"
   ]
  },
  {
   "cell_type": "code",
   "execution_count": 59,
   "metadata": {},
   "outputs": [],
   "source": [
    "df_dssr_no_explained = df_dssr.query(\n",
    "    \"correct_n_strands == True and correct_n_basepairs == True and has_singlet_flank == False and in_tc == False and n_contained_in_motifs == 0\"\n",
    ").copy()"
   ]
  },
  {
   "cell_type": "code",
   "execution_count": 60,
   "metadata": {},
   "outputs": [
    {
     "data": {
      "text/plain": [
       "6494"
      ]
     },
     "execution_count": 60,
     "metadata": {},
     "output_type": "execute_result"
    }
   ],
   "source": [
    "len(df_dssr_no_explained)"
   ]
  },
  {
   "cell_type": "code",
   "execution_count": 61,
   "metadata": {},
   "outputs": [
    {
     "data": {
      "text/plain": [
       "HELIX      4969\n",
       "TWOWAY     1065\n",
       "HAIRPIN     225\n",
       "NWAY        131\n",
       "SSTRAND     104\n",
       "Name: mtype, dtype: int64"
      ]
     },
     "execution_count": 61,
     "metadata": {},
     "output_type": "execute_result"
    }
   ],
   "source": [
    "df_dssr_no_explained[\"mtype\"].value_counts()"
   ]
  },
  {
   "cell_type": "code",
   "execution_count": 63,
   "metadata": {},
   "outputs": [
    {
     "data": {
      "text/plain": [
       "4     2165\n",
       "2     1686\n",
       "3     1683\n",
       "5      889\n",
       "6       41\n",
       "7       24\n",
       "13       4\n",
       "9        1\n",
       "8        1\n",
       "Name: n_overlapping_motifs, dtype: int64"
      ]
     },
     "execution_count": 63,
     "metadata": {},
     "output_type": "execute_result"
    }
   ],
   "source": [
    "df_dssr_no_explained[\"n_overlapping_motifs\"].value_counts()"
   ]
  },
  {
   "cell_type": "code",
   "execution_count": 62,
   "metadata": {},
   "outputs": [
    {
     "name": "stdout",
     "output_type": "stream",
     "text": [
      "pdb_id                                                                8P18\n",
      "motif                                         HELIX-UGUGGAC-GUCUGCA-8P18-1\n",
      "mtype                                                                HELIX\n",
      "n_strands                                                                2\n",
      "n_basepairs                                                              7\n",
      "n_basepair_ends                                                          2\n",
      "n_residues                                                              14\n",
      "residues                 [1-U-2137-, 1-G-2138-, 1-U-2139-, 1-G-2140-, 1...\n",
      "correct_n_strands                                                     True\n",
      "correct_n_basepairs                                                   True\n",
      "has_singlet_flank                                                    False\n",
      "found                                                                False\n",
      "misclassified                                                        False\n",
      "missing                                                              False\n",
      "overlapping_motifs       [HELIX-5-GUGUG-UGCAU-8P18-1, TWOWAY-1-1-GGA-UC...\n",
      "contained_in_motifs                                                     []\n",
      "in_tc                                                                  0.0\n",
      "n_contained_in_motifs                                                    0\n",
      "n_overlapping_motifs                                                     3\n",
      "Name: 247, dtype: object\n"
     ]
    }
   ],
   "source": [
    "for i, row in df_dssr_no_explained.iterrows():\n",
    "    print(row)\n",
    "    break"
   ]
  },
  {
   "cell_type": "code",
   "execution_count": null,
   "metadata": {},
   "outputs": [],
   "source": []
  }
 ],
 "metadata": {
  "kernelspec": {
   "display_name": "py3",
   "language": "python",
   "name": "python3"
  },
  "language_info": {
   "codemirror_mode": {
    "name": "ipython",
    "version": 3
   },
   "file_extension": ".py",
   "mimetype": "text/x-python",
   "name": "python",
   "nbconvert_exporter": "python",
   "pygments_lexer": "ipython3",
   "version": "3.8.19"
  }
 },
 "nbformat": 4,
 "nbformat_minor": 2
}
